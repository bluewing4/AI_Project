{
  "nbformat": 4,
  "nbformat_minor": 0,
  "metadata": {
    "colab": {
      "name": "AI03_Section1_project_김민상.ipynb",
      "provenance": [],
      "collapsed_sections": []
    },
    "kernelspec": {
      "name": "python3",
      "display_name": "Python 3"
    },
    "language_info": {
      "name": "python"
    }
  },
  "cells": [
    {
      "cell_type": "markdown",
      "metadata": {
        "id": "klzJ9rAFtP2U"
      },
      "source": [
        "# **DATA SCIENCE / SECTION 1 / PROJECT**\n",
        "\n",
        "\n",
        "주제 : 다음 분기 출시 게임 선정\n",
        "\n",
        "목적 : 기존의 데이터에 기반하여 인사이트를 얻고, 의사결정을 하고자 하는 것\n",
        "\n",
        "프로젝트 최소 포함사항\n",
        "\n",
        "1.   지역에 따라서 선호하는 게임 장르가 다를까\n",
        "\n",
        "2.   연도별 게임의 트렌드가 있을까\n",
        "\n",
        "1.   출고량이 높은 게임에 대한 분석 및 시각화 프로세스가 포함\n",
        "\n",
        "\n",
        "\n",
        "\n",
        "\n",
        "\n"
      ]
    },
    {
      "cell_type": "markdown",
      "metadata": {
        "id": "U7NtgfOj2uC8"
      },
      "source": [
        "# 1. 데이터 생성"
      ]
    },
    {
      "cell_type": "code",
      "metadata": {
        "colab": {
          "base_uri": "https://localhost:8080/",
          "height": 0
        },
        "id": "upW6ZVmfTwdh",
        "outputId": "9e638351-98a2-4d5d-f2e4-a5b4221b8480"
      },
      "source": [
        "from google.colab import drive\n",
        "drive.mount('/content/drive')"
      ],
      "execution_count": 1,
      "outputs": [
        {
          "output_type": "stream",
          "text": [
            "Mounted at /content/drive\n"
          ],
          "name": "stdout"
        }
      ]
    },
    {
      "cell_type": "code",
      "metadata": {
        "colab": {
          "base_uri": "https://localhost:8080/",
          "height": 268
        },
        "id": "LOIsKFLwtOC3",
        "outputId": "afcf7fa1-ebdf-4903-97c6-b61ef3a73b75"
      },
      "source": [
        "import pandas as pd\n",
        "import numpy as np\n",
        "import matplotlib.pyplot as plt\n",
        "import seaborn as sns\n",
        "from scipy import stats\n",
        "\n",
        "url = '/content/drive/MyDrive/data/vgames2.csv'\n",
        "df = pd.read_csv(url)\n",
        "df.head()\n"
      ],
      "execution_count": 37,
      "outputs": [
        {
          "output_type": "execute_result",
          "data": {
            "text/html": [
              "<div>\n",
              "<style scoped>\n",
              "    .dataframe tbody tr th:only-of-type {\n",
              "        vertical-align: middle;\n",
              "    }\n",
              "\n",
              "    .dataframe tbody tr th {\n",
              "        vertical-align: top;\n",
              "    }\n",
              "\n",
              "    .dataframe thead th {\n",
              "        text-align: right;\n",
              "    }\n",
              "</style>\n",
              "<table border=\"1\" class=\"dataframe\">\n",
              "  <thead>\n",
              "    <tr style=\"text-align: right;\">\n",
              "      <th></th>\n",
              "      <th>Unnamed: 0</th>\n",
              "      <th>Name</th>\n",
              "      <th>Platform</th>\n",
              "      <th>Year</th>\n",
              "      <th>Genre</th>\n",
              "      <th>Publisher</th>\n",
              "      <th>NA_Sales</th>\n",
              "      <th>EU_Sales</th>\n",
              "      <th>JP_Sales</th>\n",
              "      <th>Other_Sales</th>\n",
              "    </tr>\n",
              "  </thead>\n",
              "  <tbody>\n",
              "    <tr>\n",
              "      <th>0</th>\n",
              "      <td>1</td>\n",
              "      <td>Candace Kane's Candy Factory</td>\n",
              "      <td>DS</td>\n",
              "      <td>2008.0</td>\n",
              "      <td>Action</td>\n",
              "      <td>Destineer</td>\n",
              "      <td>0.04</td>\n",
              "      <td>0</td>\n",
              "      <td>0</td>\n",
              "      <td>0</td>\n",
              "    </tr>\n",
              "    <tr>\n",
              "      <th>1</th>\n",
              "      <td>2</td>\n",
              "      <td>The Munchables</td>\n",
              "      <td>Wii</td>\n",
              "      <td>2009.0</td>\n",
              "      <td>Action</td>\n",
              "      <td>Namco Bandai Games</td>\n",
              "      <td>0.17</td>\n",
              "      <td>0</td>\n",
              "      <td>0</td>\n",
              "      <td>0.01</td>\n",
              "    </tr>\n",
              "    <tr>\n",
              "      <th>2</th>\n",
              "      <td>3</td>\n",
              "      <td>Otome wa Oanesama Boku ni Koi Shiteru Portable</td>\n",
              "      <td>PSP</td>\n",
              "      <td>2010.0</td>\n",
              "      <td>Adventure</td>\n",
              "      <td>Alchemist</td>\n",
              "      <td>0</td>\n",
              "      <td>0</td>\n",
              "      <td>0.02</td>\n",
              "      <td>0</td>\n",
              "    </tr>\n",
              "    <tr>\n",
              "      <th>3</th>\n",
              "      <td>4</td>\n",
              "      <td>Deal or No Deal: Special Edition</td>\n",
              "      <td>DS</td>\n",
              "      <td>2010.0</td>\n",
              "      <td>Misc</td>\n",
              "      <td>Zoo Games</td>\n",
              "      <td>0.04</td>\n",
              "      <td>0</td>\n",
              "      <td>0</td>\n",
              "      <td>0</td>\n",
              "    </tr>\n",
              "    <tr>\n",
              "      <th>4</th>\n",
              "      <td>5</td>\n",
              "      <td>Ben 10 Ultimate Alien: Cosmic Destruction</td>\n",
              "      <td>PS3</td>\n",
              "      <td>2010.0</td>\n",
              "      <td>Platform</td>\n",
              "      <td>D3Publisher</td>\n",
              "      <td>0.12</td>\n",
              "      <td>0.09</td>\n",
              "      <td>0</td>\n",
              "      <td>0.04</td>\n",
              "    </tr>\n",
              "  </tbody>\n",
              "</table>\n",
              "</div>"
            ],
            "text/plain": [
              "   Unnamed: 0  ... Other_Sales\n",
              "0           1  ...           0\n",
              "1           2  ...        0.01\n",
              "2           3  ...           0\n",
              "3           4  ...           0\n",
              "4           5  ...        0.04\n",
              "\n",
              "[5 rows x 10 columns]"
            ]
          },
          "metadata": {
            "tags": []
          },
          "execution_count": 37
        }
      ]
    },
    {
      "cell_type": "markdown",
      "metadata": {
        "id": "tP0J9eDj3HBK"
      },
      "source": [
        "# 2. 데이터 전처리"
      ]
    },
    {
      "cell_type": "code",
      "metadata": {
        "colab": {
          "base_uri": "https://localhost:8080/",
          "height": 0
        },
        "id": "Xs_CnDZEzcUX",
        "outputId": "070f1287-6a45-4aa6-da3e-d5d5a5fba5a2"
      },
      "source": [
        "#결측치 및 데이터 정보확인\n",
        "\n",
        "df.isnull().sum(),  df.info()\n"
      ],
      "execution_count": 17,
      "outputs": [
        {
          "output_type": "stream",
          "text": [
            "<class 'pandas.core.frame.DataFrame'>\n",
            "RangeIndex: 16598 entries, 0 to 16597\n",
            "Data columns (total 10 columns):\n",
            " #   Column       Non-Null Count  Dtype  \n",
            "---  ------       --------------  -----  \n",
            " 0   Unnamed: 0   16598 non-null  int64  \n",
            " 1   Name         16598 non-null  object \n",
            " 2   Platform     16598 non-null  object \n",
            " 3   Year         16327 non-null  float64\n",
            " 4   Genre        16548 non-null  object \n",
            " 5   Publisher    16540 non-null  object \n",
            " 6   NA_Sales     16598 non-null  object \n",
            " 7   EU_Sales     16598 non-null  object \n",
            " 8   JP_Sales     16598 non-null  object \n",
            " 9   Other_Sales  16598 non-null  object \n",
            "dtypes: float64(1), int64(1), object(8)\n",
            "memory usage: 1.3+ MB\n"
          ],
          "name": "stdout"
        },
        {
          "output_type": "execute_result",
          "data": {
            "text/plain": [
              "(Unnamed: 0       0\n",
              " Name             0\n",
              " Platform         0\n",
              " Year           271\n",
              " Genre           50\n",
              " Publisher       58\n",
              " NA_Sales         0\n",
              " EU_Sales         0\n",
              " JP_Sales         0\n",
              " Other_Sales      0\n",
              " dtype: int64, None)"
            ]
          },
          "metadata": {
            "tags": []
          },
          "execution_count": 17
        }
      ]
    },
    {
      "cell_type": "markdown",
      "metadata": {
        "id": "de-hQpsjUNIe"
      },
      "source": [
        "\n",
        "*   Unnamed: 0,  Null,  object형식 확인\n",
        "   항목 추가\n",
        "\n"
      ]
    },
    {
      "cell_type": "markdown",
      "metadata": {
        "id": "FrSNVuiU3NqT"
      },
      "source": [
        "의미없는데이터 삭제"
      ]
    },
    {
      "cell_type": "code",
      "metadata": {
        "id": "eA5hnyEK3O1h",
        "colab": {
          "base_uri": "https://localhost:8080/",
          "height": 0
        },
        "outputId": "0c22a55b-625a-4c62-aa04-b25577ec7acf"
      },
      "source": [
        "#결측치 제거\n",
        "df1 = df.dropna()\n",
        "\n",
        "#사용하지 않는 Unnamed: 0 삭제\n",
        "project_df = df1.drop(['Unnamed: 0'], axis = 1)\n",
        "\n",
        "#project_df 확인 및 결측치 제거확인\n",
        "project_df.head(), project_df.isnull().sum()\n"
      ],
      "execution_count": 22,
      "outputs": [
        {
          "output_type": "execute_result",
          "data": {
            "text/plain": [
              "(                                             Name Platform  ...  JP_Sales Other_Sales\n",
              " 0                    Candace Kane's Candy Factory       DS  ...         0           0\n",
              " 1                                  The Munchables      Wii  ...         0        0.01\n",
              " 2  Otome wa Oanesama Boku ni Koi Shiteru Portable      PSP  ...      0.02           0\n",
              " 3                Deal or No Deal: Special Edition       DS  ...         0           0\n",
              " 4       Ben 10 Ultimate Alien: Cosmic Destruction      PS3  ...         0        0.04\n",
              " \n",
              " [5 rows x 9 columns], Name           0\n",
              " Platform       0\n",
              " Year           0\n",
              " Genre          0\n",
              " Publisher      0\n",
              " NA_Sales       0\n",
              " EU_Sales       0\n",
              " JP_Sales       0\n",
              " Other_Sales    0\n",
              " dtype: int64)"
            ]
          },
          "metadata": {
            "tags": []
          },
          "execution_count": 22
        }
      ]
    },
    {
      "cell_type": "code",
      "metadata": {
        "id": "VuXE4eCIY61L"
      },
      "source": [
        "#object변경 및 M,K처리\n",
        "def tofloat(s):\n",
        "  if 'K' in s:\n",
        "    s = s.replace('K','')\n",
        "    s = float(s)*1000\n",
        "  elif 'M' in s:\n",
        "    s = s.replace('M','')\n",
        "    s = float(s)*1000000\n",
        "  else:\n",
        "    s = float(s)*1000000\n",
        "  return s\n",
        "# 각 지역별 적용\n",
        "for i in ['NA_Sales', 'EU_Sales', 'JP_Sales', 'Other_Sales']:\n",
        "     project_df[i] = project_df[i].apply(tofloat)\n",
        "     "
      ],
      "execution_count": 24,
      "outputs": []
    },
    {
      "cell_type": "code",
      "metadata": {
        "colab": {
          "base_uri": "https://localhost:8080/",
          "height": 202
        },
        "id": "366KrUSDle-S",
        "outputId": "a1d25ce2-94ba-4122-d5e8-7227397add28"
      },
      "source": [
        "#연도별 정리\n",
        "year_df = project_df.sort_values('Year')\n",
        "year_df.head()\n"
      ],
      "execution_count": 25,
      "outputs": [
        {
          "output_type": "execute_result",
          "data": {
            "text/html": [
              "<div>\n",
              "<style scoped>\n",
              "    .dataframe tbody tr th:only-of-type {\n",
              "        vertical-align: middle;\n",
              "    }\n",
              "\n",
              "    .dataframe tbody tr th {\n",
              "        vertical-align: top;\n",
              "    }\n",
              "\n",
              "    .dataframe thead th {\n",
              "        text-align: right;\n",
              "    }\n",
              "</style>\n",
              "<table border=\"1\" class=\"dataframe\">\n",
              "  <thead>\n",
              "    <tr style=\"text-align: right;\">\n",
              "      <th></th>\n",
              "      <th>Name</th>\n",
              "      <th>Platform</th>\n",
              "      <th>Year</th>\n",
              "      <th>Genre</th>\n",
              "      <th>Publisher</th>\n",
              "      <th>NA_Sales</th>\n",
              "      <th>EU_Sales</th>\n",
              "      <th>JP_Sales</th>\n",
              "      <th>Other_Sales</th>\n",
              "    </tr>\n",
              "  </thead>\n",
              "  <tbody>\n",
              "    <tr>\n",
              "      <th>9276</th>\n",
              "      <td>Trade &amp; Battle: Card Hero</td>\n",
              "      <td>GB</td>\n",
              "      <td>0.0</td>\n",
              "      <td>Strategy</td>\n",
              "      <td>Nintendo</td>\n",
              "      <td>0.0</td>\n",
              "      <td>0.0</td>\n",
              "      <td>200000.0</td>\n",
              "      <td>0.0</td>\n",
              "    </tr>\n",
              "    <tr>\n",
              "      <th>16394</th>\n",
              "      <td>Point Blank 3</td>\n",
              "      <td>PS</td>\n",
              "      <td>0.0</td>\n",
              "      <td>Shooter</td>\n",
              "      <td>Namco Bandai Games</td>\n",
              "      <td>10000.0</td>\n",
              "      <td>10000.0</td>\n",
              "      <td>0.0</td>\n",
              "      <td>0.0</td>\n",
              "    </tr>\n",
              "    <tr>\n",
              "      <th>14666</th>\n",
              "      <td>Strider 2</td>\n",
              "      <td>PS</td>\n",
              "      <td>0.0</td>\n",
              "      <td>Platform</td>\n",
              "      <td>Virgin Interactive</td>\n",
              "      <td>50000.0</td>\n",
              "      <td>30000.0</td>\n",
              "      <td>0.0</td>\n",
              "      <td>10000.0</td>\n",
              "    </tr>\n",
              "    <tr>\n",
              "      <th>2249</th>\n",
              "      <td>SplashDown</td>\n",
              "      <td>PS2</td>\n",
              "      <td>1.0</td>\n",
              "      <td>Racing</td>\n",
              "      <td>Atari</td>\n",
              "      <td>340000.0</td>\n",
              "      <td>270000.0</td>\n",
              "      <td>0.0</td>\n",
              "      <td>90000.0</td>\n",
              "    </tr>\n",
              "    <tr>\n",
              "      <th>8681</th>\n",
              "      <td>NCAA Football 2002</td>\n",
              "      <td>PS2</td>\n",
              "      <td>1.0</td>\n",
              "      <td>Sports</td>\n",
              "      <td>Electronic Arts</td>\n",
              "      <td>770000.0</td>\n",
              "      <td>600000.0</td>\n",
              "      <td>0.0</td>\n",
              "      <td>200000.0</td>\n",
              "    </tr>\n",
              "  </tbody>\n",
              "</table>\n",
              "</div>"
            ],
            "text/plain": [
              "                            Name Platform  ...  JP_Sales Other_Sales\n",
              "9276   Trade & Battle: Card Hero       GB  ...  200000.0         0.0\n",
              "16394              Point Blank 3       PS  ...       0.0         0.0\n",
              "14666                  Strider 2       PS  ...       0.0     10000.0\n",
              "2249                  SplashDown      PS2  ...       0.0     90000.0\n",
              "8681          NCAA Football 2002      PS2  ...       0.0    200000.0\n",
              "\n",
              "[5 rows x 9 columns]"
            ]
          },
          "metadata": {
            "tags": []
          },
          "execution_count": 25
        }
      ]
    },
    {
      "cell_type": "markdown",
      "metadata": {
        "id": "ikanQPJIhdRn"
      },
      "source": [
        "Year 부분에 4자리가 아닌 데이터 발견하여 처리"
      ]
    },
    {
      "cell_type": "code",
      "metadata": {
        "colab": {
          "base_uri": "https://localhost:8080/",
          "height": 235
        },
        "id": "Zc4R_FojkNh4",
        "outputId": "eb275d77-2fbe-4146-dd81-1ef9f285b306"
      },
      "source": [
        "#한자리와 두자리 21까지 2000년대\n",
        "#두자리 21초과는 1900년대로 설정\n",
        "\n",
        "def year(y):\n",
        "  if 0<= y <10:\n",
        "    y = y + 2000\n",
        "  elif 10<= y <= 21:\n",
        "    y = y + 2000\n",
        "  elif 21< y < 100:\n",
        "    y = y + 1900\n",
        "  return y\n",
        "project_df['Year'] = project_df['Year'].apply(year)\n",
        "project_df['Year'] = project_df['Year'].astype({'Year':int})\n",
        "project_df.head()\n"
      ],
      "execution_count": 26,
      "outputs": [
        {
          "output_type": "execute_result",
          "data": {
            "text/html": [
              "<div>\n",
              "<style scoped>\n",
              "    .dataframe tbody tr th:only-of-type {\n",
              "        vertical-align: middle;\n",
              "    }\n",
              "\n",
              "    .dataframe tbody tr th {\n",
              "        vertical-align: top;\n",
              "    }\n",
              "\n",
              "    .dataframe thead th {\n",
              "        text-align: right;\n",
              "    }\n",
              "</style>\n",
              "<table border=\"1\" class=\"dataframe\">\n",
              "  <thead>\n",
              "    <tr style=\"text-align: right;\">\n",
              "      <th></th>\n",
              "      <th>Name</th>\n",
              "      <th>Platform</th>\n",
              "      <th>Year</th>\n",
              "      <th>Genre</th>\n",
              "      <th>Publisher</th>\n",
              "      <th>NA_Sales</th>\n",
              "      <th>EU_Sales</th>\n",
              "      <th>JP_Sales</th>\n",
              "      <th>Other_Sales</th>\n",
              "    </tr>\n",
              "  </thead>\n",
              "  <tbody>\n",
              "    <tr>\n",
              "      <th>0</th>\n",
              "      <td>Candace Kane's Candy Factory</td>\n",
              "      <td>DS</td>\n",
              "      <td>2008</td>\n",
              "      <td>Action</td>\n",
              "      <td>Destineer</td>\n",
              "      <td>40000.0</td>\n",
              "      <td>0.0</td>\n",
              "      <td>0.0</td>\n",
              "      <td>0.0</td>\n",
              "    </tr>\n",
              "    <tr>\n",
              "      <th>1</th>\n",
              "      <td>The Munchables</td>\n",
              "      <td>Wii</td>\n",
              "      <td>2009</td>\n",
              "      <td>Action</td>\n",
              "      <td>Namco Bandai Games</td>\n",
              "      <td>170000.0</td>\n",
              "      <td>0.0</td>\n",
              "      <td>0.0</td>\n",
              "      <td>10000.0</td>\n",
              "    </tr>\n",
              "    <tr>\n",
              "      <th>2</th>\n",
              "      <td>Otome wa Oanesama Boku ni Koi Shiteru Portable</td>\n",
              "      <td>PSP</td>\n",
              "      <td>2010</td>\n",
              "      <td>Adventure</td>\n",
              "      <td>Alchemist</td>\n",
              "      <td>0.0</td>\n",
              "      <td>0.0</td>\n",
              "      <td>20000.0</td>\n",
              "      <td>0.0</td>\n",
              "    </tr>\n",
              "    <tr>\n",
              "      <th>3</th>\n",
              "      <td>Deal or No Deal: Special Edition</td>\n",
              "      <td>DS</td>\n",
              "      <td>2010</td>\n",
              "      <td>Misc</td>\n",
              "      <td>Zoo Games</td>\n",
              "      <td>40000.0</td>\n",
              "      <td>0.0</td>\n",
              "      <td>0.0</td>\n",
              "      <td>0.0</td>\n",
              "    </tr>\n",
              "    <tr>\n",
              "      <th>4</th>\n",
              "      <td>Ben 10 Ultimate Alien: Cosmic Destruction</td>\n",
              "      <td>PS3</td>\n",
              "      <td>2010</td>\n",
              "      <td>Platform</td>\n",
              "      <td>D3Publisher</td>\n",
              "      <td>120000.0</td>\n",
              "      <td>90000.0</td>\n",
              "      <td>0.0</td>\n",
              "      <td>40000.0</td>\n",
              "    </tr>\n",
              "  </tbody>\n",
              "</table>\n",
              "</div>"
            ],
            "text/plain": [
              "                                             Name  ... Other_Sales\n",
              "0                    Candace Kane's Candy Factory  ...         0.0\n",
              "1                                  The Munchables  ...     10000.0\n",
              "2  Otome wa Oanesama Boku ni Koi Shiteru Portable  ...         0.0\n",
              "3                Deal or No Deal: Special Edition  ...         0.0\n",
              "4       Ben 10 Ultimate Alien: Cosmic Destruction  ...     40000.0\n",
              "\n",
              "[5 rows x 9 columns]"
            ]
          },
          "metadata": {
            "tags": []
          },
          "execution_count": 26
        }
      ]
    },
    {
      "cell_type": "markdown",
      "metadata": {
        "id": "lGBe6IzZ0WM7"
      },
      "source": [
        "# 3. 데이터 분석\n",
        "\n",
        "project 최소 포함사항\n",
        "\n",
        "\n",
        "\n",
        "\n",
        "1.   지역에 따라서 선호하는 게임 장르가 다를까\n",
        "\n",
        "2.   연도별 게임의 트렌드가 있을까\n",
        "\n",
        "1.   출고량이 높은 게임에 대한 분석 및 시각화 프로세스가 포함\n",
        "\n",
        "\n",
        "\n",
        "\n",
        "다음 출시될 게임선정을 위한 분석\n",
        "\n",
        "\n"
      ]
    },
    {
      "cell_type": "markdown",
      "metadata": {
        "id": "cdTiqAk6PlU6"
      },
      "source": [
        "project 최소 포함사항\n",
        "\n",
        "1.지역에 따라서 선호하는 게임 장르가 다를까?"
      ]
    },
    {
      "cell_type": "code",
      "metadata": {
        "id": "Vl-LmqSOticc",
        "colab": {
          "base_uri": "https://localhost:8080/",
          "height": 350
        },
        "outputId": "7d8736a4-c62c-41fe-f5fb-b58474a06dd2"
      },
      "source": [
        "#1. 지역에 따라 선호하는 게임장르비교\n",
        "\n",
        "na = project_df.groupby('Genre')['NA_Sales'].sum()\n",
        "eu = project_df.groupby('Genre')['EU_Sales'].sum()\n",
        "jp = project_df.groupby('Genre')['JP_Sales'].sum()\n",
        "ot = project_df.groupby('Genre')['Other_Sales'].sum()\n",
        "\n",
        "\n",
        "plt.figure(figsize=(15,5))\n",
        "plt.plot(na), plt.plot(eu)\n",
        "plt.plot(jp), plt.plot(ot)\n",
        "plt.legend(['NA_Sales', 'EU_Sales', 'JP_Sales', 'Other_Sales'])\n",
        "plt.title('Preferred Games by Region')\n",
        "plt.grid()\n",
        "plt.xlabel('Genre')\n",
        "plt.ylabel('Sales')\n",
        "plt.show()\n"
      ],
      "execution_count": 27,
      "outputs": [
        {
          "output_type": "display_data",
          "data": {
            "image/png": "[encoded data removed]",
            "text/plain": [
              "<Figure size 1080x360 with 1 Axes>"
            ]
          },
          "metadata": {
            "tags": [],
            "needs_background": "light"
          }
        }
      ]
    },
    {
      "cell_type": "markdown",
      "metadata": {
        "id": "mf-dgy035UVs"
      },
      "source": [
        "상기 그래프와 같이 3개의 지역은 비슷한 경향을 보이나 JP지역만 롤플레잉 게임이 높은 다른 결과값을 가집니다.\n",
        "\n",
        "각 지역별 최상위는 대체로 Action게임이지만 JP지역에서는 Role-Playing 게임이 최상위를 가지며 다음으로 Shooter와 Sports는 모든지역이 비슷한 양상을 보입니다.\n",
        "\n",
        "따라서 JP지역의 Role-Playing과 Shooter장르를 제외하면 전체 지역이 비슷한 성향을 가진다고 판단됩니다."
      ]
    },
    {
      "cell_type": "markdown",
      "metadata": {
        "id": "bpk8jt5q8Gk-"
      },
      "source": [
        "2.연도별 게임의 트렌드가 있을까?"
      ]
    },
    {
      "cell_type": "code",
      "metadata": {
        "id": "UGJ705tI8FeR",
        "colab": {
          "base_uri": "https://localhost:8080/",
          "height": 533
        },
        "outputId": "bd715236-f1d6-422d-fb6a-b13fc9777751"
      },
      "source": [
        "# 연도별 게임의 트렌드\n",
        "\n",
        "sum_df = project_df.drop(['Name','Platform','Publisher','NA_Sales', 'EU_Sales' ,'JP_Sales', 'Other_Sales'], axis = 1)\n",
        "sum_df['sum'] = project_df['NA_Sales']+ project_df['EU_Sales']+ project_df['JP_Sales']+ project_df['Other_Sales']\n",
        "year_tr_df = sum_df.groupby(['Year', 'Genre'])['sum'].sum()\n",
        "year_tr_df = year_tr_df.reset_index()\n",
        "plt.figure(figsize=(20,8))\n",
        "plt.title('Game trends by year')\n",
        "plt.grid()\n",
        "sns.barplot(x = 'Year', y = 'sum', hue = 'Genre', data = year_tr_df, dodge=False)\n",
        "plt.show()\n"
      ],
      "execution_count": 28,
      "outputs": [
        {
          "output_type": "display_data",
          "data": {
            "image/png": "[encoded data removed]",
            "text/plain": [
              "<Figure size 1440x576 with 1 Axes>"
            ]
          },
          "metadata": {
            "tags": [],
            "needs_background": "light"
          }
        }
      ]
    },
    {
      "cell_type": "markdown",
      "metadata": {
        "id": "kGebI2Q7StOF"
      },
      "source": [
        "게임의 전체 판매량을 기준으로 보면 2002년~2015년까지 많은 출고량을 보이지만 2016년부터는 큰 하락세를 보입니다.\n",
        "\n",
        "1900년대는 플렛폼의 초기 모델로 간단하고 단순한 게임이 주를 이루며\n",
        "\n",
        "2000년대에 들면서 움직임이 많고 복잡한 게임이 늘어난 것을 볼 수 있습니다. \n",
        "\n",
        "이러한 결과는 시간이 지남에 따라 플렛폼의 성능의 향상과 관련 된 것으로 생각됩니다."
      ]
    },
    {
      "cell_type": "markdown",
      "metadata": {
        "id": "pr1n63PuAJfJ"
      },
      "source": [
        "게임별 출고량과 총 출고량 비교\n",
        "\n"
      ]
    },
    {
      "cell_type": "code",
      "metadata": {
        "colab": {
          "base_uri": "https://localhost:8080/",
          "height": 407
        },
        "id": "DFVBHrA-AJ-N",
        "outputId": "e044d185-9ea4-48d6-9943-6b17bfa54677"
      },
      "source": [
        "plt.figure(figsize=(15,6))\n",
        "plt.title('Game Sales by Year')\n",
        "plt.grid()\n",
        "plt.plot(sum_df.groupby('Year')['sum'].sum())\n"
      ],
      "execution_count": 29,
      "outputs": [
        {
          "output_type": "execute_result",
          "data": {
            "text/plain": [
              "[<matplotlib.lines.Line2D at 0x7f20c72c70d0>]"
            ]
          },
          "metadata": {
            "tags": []
          },
          "execution_count": 29
        },
        {
          "output_type": "display_data",
          "data": {
            "image/png": "[encoded data removed]",
            "text/plain": [
              "<Figure size 1080x432 with 1 Axes>"
            ]
          },
          "metadata": {
            "tags": [],
            "needs_background": "light"
          }
        }
      ]
    },
    {
      "cell_type": "markdown",
      "metadata": {
        "id": "uUAsAihy8Rj6"
      },
      "source": [
        "총 판매량의 감소가 급격하게 이루어진 것은 스마트폰등과 같이 휴대성을 높은 제품으로 인한 결과로 생각됩니다. \n",
        "\n",
        "스마트폰이 대중화된 초창기에는 화면이 작고 많은 기능을 담아내지 못하였기에 비디오게임시장의 활성화가 \n",
        "\n",
        "이어졌지만 2010년대 중반을 넘어오면서 비디오게임의 기능을 상당부분 충족하면서 급격하게 판매량이 하락한 것으로 보여집니다."
      ]
    },
    {
      "cell_type": "markdown",
      "metadata": {
        "id": "2AxziDhS8Tn1"
      },
      "source": [
        "3.출고량이 높은 게임에 대한 분석 및 시각화 프로세스"
      ]
    },
    {
      "cell_type": "code",
      "metadata": {
        "colab": {
          "base_uri": "https://localhost:8080/",
          "height": 593
        },
        "id": "4M4Qxhuh8Xwx",
        "outputId": "316ca34f-0ef8-47ca-b76a-52ad8650ddf7"
      },
      "source": [
        "# 출고량이 높은 게임\n",
        "\n",
        "sales_df = project_df.drop(['Year', 'Platform','Genre', 'Publisher','NA_Sales', 'EU_Sales' ,'JP_Sales', 'Other_Sales'], axis = 1)\n",
        "sales_df['sum'] = project_df['NA_Sales']+ project_df['EU_Sales']+ project_df['JP_Sales']+ project_df['Other_Sales']\n",
        "\n",
        "sales15_df = sales_df.nlargest(15,\"sum\")\n",
        "\n",
        "plt.figure(figsize=(20,8))\n",
        "plt.grid()\n",
        "plt.title('Top15')\n",
        "sns.barplot(x = 'Name', y = 'sum', data = sales15_df)\n",
        "plt.xticks(fontsize=10, rotation=45)\n",
        "\n",
        "\n",
        "#상위 15개의 게임와 전체 게임간의 판매량 차이 검증\n",
        "fst = sales15_df['sum']  # 상위15개\n",
        "scd = sales_df['sum']    #전체 \n",
        "P_value = stats.ttest_ind(fst,scd).pvalue   #Two-Sample T-test\n",
        "if P_value >= 0.05:\n",
        "    print('상위15개의 게임와 전체 게임간의 판매량이 유의미한 차이는 없습니다.', P_value)\n",
        "else:\n",
        "    print('상위15개의 게임와 전체 게임간의 판매량이 유의미한 차이가 있습니다.', P_value)\n",
        "plt.show()\n"
      ],
      "execution_count": 30,
      "outputs": [
        {
          "output_type": "stream",
          "text": [
            "상위15개의 게임와 전체 게임간의 판매량이 유의미한 차이가 있습니다. 0.0\n"
          ],
          "name": "stdout"
        },
        {
          "output_type": "display_data",
          "data": {
            "image/png": "[encoded data removed]",
            "text/plain": [
              "<Figure size 1440x576 with 1 Axes>"
            ]
          },
          "metadata": {
            "tags": [],
            "needs_background": "light"
          }
        }
      ]
    },
    {
      "cell_type": "markdown",
      "metadata": {
        "id": "9PONOfc4cQJE"
      },
      "source": [
        "게임명을 기준으로 각 지역의 전체 합계를 구했고 전체 게임을 시각화 하기에는 무리가 있어 상위15개를 선정하였습니다.\n",
        "\n",
        "이후 상위15개의 게임과 전체 게임간의 판매량 차이 검증을 위해 투샘플 티테스트를 진행하였고\n",
        "\n",
        "그 결과 상위 15개와 전체 게임간의 판매량은 유의미한 차이가 있음을 확인 할 수 있었습니다."
      ]
    },
    {
      "cell_type": "markdown",
      "metadata": {
        "id": "kfiW0I2ZcRtx"
      },
      "source": [
        "#4. 다음 출시될 게임선정을 위한 분석"
      ]
    },
    {
      "cell_type": "markdown",
      "metadata": {
        "id": "K3aNUxlOxgGi"
      },
      "source": [
        "다음 출시 게임은 1900년대와 2000년대 초반과는 많은 차이를 보여 최근 5년간의 데이터를 기준으로 선정하려 하였지만 2016년 이후의 출고량이 급격히 줄어들어 2010년 이후 데이터를 활용하였습니다.\n",
        "\n",
        "\n",
        "\n"
      ]
    },
    {
      "cell_type": "code",
      "metadata": {
        "colab": {
          "base_uri": "https://localhost:8080/",
          "height": 454
        },
        "id": "PlxkMsi2cQqJ",
        "outputId": "159c677b-4143-4ef6-e987-4d733f478b2d"
      },
      "source": [
        "release_df = project_df.drop(['Name','Publisher'], axis = 1)\n",
        "release_df['sum'] = release_df['NA_Sales']+ release_df['EU_Sales']+ release_df['JP_Sales']+ release_df['Other_Sales']\n",
        "#2010년 이후 데이터만 필요\n",
        "release_df = pd.DataFrame(release_df[release_df['Year'] >= 2011])\n",
        "\n",
        "#10년간 장르별 총 판매량\n",
        "genre_df = pd.DataFrame(release_df.groupby('Genre')['sum'].sum())\n",
        "genre_df1 = genre_df.reset_index()\n",
        "genre_df1 = genre_df1.sort_values('sum', ascending=False)\n",
        "genre_df1.plot.bar(x = 'Genre', alpha = 1, figsize = (12,6))\n",
        "plt.title('Sales in the last 10 years')\n",
        "plt.xticks(fontsize=12, rotation=45)\n",
        "plt.show()\n"
      ],
      "execution_count": 31,
      "outputs": [
        {
          "output_type": "display_data",
          "data": {
            "image/png": "[encoded data removed]",
            "text/plain": [
              "<Figure size 864x432 with 1 Axes>"
            ]
          },
          "metadata": {
            "tags": [],
            "needs_background": "light"
          }
        }
      ]
    },
    {
      "cell_type": "markdown",
      "metadata": {
        "id": "xAvcyIikIOoG"
      },
      "source": [
        "최근 10년간 전지역 판매량 1/2/3위의 차이 분석\n",
        "\n",
        "\n",
        "\n"
      ]
    },
    {
      "cell_type": "code",
      "metadata": {
        "colab": {
          "base_uri": "https://localhost:8080/",
          "height": 0
        },
        "id": "79TuCNauIPIC",
        "outputId": "c938493c-5b24-4430-ede9-4eea27dbb643"
      },
      "source": [
        "action = release_df[release_df['Genre'] == 'Action']['sum']     # Action게임 판매량\n",
        "shooter = release_df[release_df['Genre'] == 'Shooter']['sum']   # Shooter게임 판매량\n",
        "sports = release_df[release_df['Genre'] == 'Sports']['sum']     # Sports게임 판매량\n",
        "\n",
        "#3그룹간 ANOVA Test진행\n",
        "anova_P = stats.f_oneway(action, shooter, sports).pvalue\n",
        "if anova_P >= 0.05:\n",
        "    print('최근 10년간 전체 판매량의 Action/Shooter/Sports 간의 유의미한 차이는 없습니다.', anova_P)\n",
        "else:\n",
        "    print('최근 10년간 전체 판매량의 Action/Shooter/Sports 간의 유의미한 차이가 있습니다.', anova_P)\n"
      ],
      "execution_count": 32,
      "outputs": [
        {
          "output_type": "stream",
          "text": [
            "최근 10년간 전체 판매량의 Action/Shooter/Sports 간의 유의미한 차이가 있습니다. 4.440258704986167e-17\n"
          ],
          "name": "stdout"
        }
      ]
    },
    {
      "cell_type": "markdown",
      "metadata": {
        "id": "hZCW_ZryVW99"
      },
      "source": [
        "최근 10년간 전지역 판매량 1/2위간 차이 분석"
      ]
    },
    {
      "cell_type": "code",
      "metadata": {
        "colab": {
          "base_uri": "https://localhost:8080/",
          "height": 0
        },
        "id": "dCkKHR4WVXU0",
        "outputId": "e8d10b85-9a11-4f43-e35b-d98868c9aa49"
      },
      "source": [
        "ttest_G = stats.ttest_ind(action,shooter).pvalue   #Two-Sample T-test\n",
        "if ttest_G >= 0.05:\n",
        "    print('Action/Shooter 두 장르간의 판매량이 유의미한 차이는 없습니다.', ttest_G)\n",
        "else:\n",
        "    print('Action/Shooter 두 장르간의 판매량이 유의미한 차이가 있습니다.', ttest_G)\n"
      ],
      "execution_count": 33,
      "outputs": [
        {
          "output_type": "stream",
          "text": [
            "Action/Shooter 두 장르간의 판매량이 유의미한 차이가 있습니다. 1.7598195758801525e-16\n"
          ],
          "name": "stdout"
        }
      ]
    },
    {
      "cell_type": "markdown",
      "metadata": {
        "id": "M9npDp6zKEAU"
      },
      "source": [
        "따라서 최근 10년간 기준으로 Action게임이 가장 많은 판매량을 기록하였고 2/3위간의 차이가 있으며, 1/2위간의 차이도 존재합니다.\n",
        "\n",
        "Action/Shooter간의 차이는 있지만 두 장르를 결합한 새로운 게임을 출시한다면 양쪽 그룹을 사용자를 만족할 것입니다."
      ]
    },
    {
      "cell_type": "markdown",
      "metadata": {
        "id": "p7n3vRTDZm1s"
      },
      "source": [
        "Action/Shooter장르 기준의 플랫폼 선정"
      ]
    },
    {
      "cell_type": "code",
      "metadata": {
        "colab": {
          "base_uri": "https://localhost:8080/",
          "height": 415
        },
        "id": "LwKXPxJqZnOK",
        "outputId": "a801345f-326b-4f23-f2e2-ba7386265194"
      },
      "source": [
        "#Platform\n",
        "action, shooter\n",
        "\n",
        "action_df = pd.DataFrame(release_df[release_df['Genre'] == 'Action'])\n",
        "action_df1 = pd.DataFrame(action_df.groupby('Platform')['sum'].sum())\n",
        "action_df1 = action_df1.reset_index()\n",
        "\n",
        "shooter_df = pd.DataFrame(release_df[release_df['Genre'] == 'Shooter'])\n",
        "shooter_df1 = pd.DataFrame(shooter_df.groupby('Platform')['sum'].sum())\n",
        "shooter_df1 = shooter_df1.reset_index()\n",
        "\n",
        "merge_df = pd.merge(action_df1, shooter_df1, how = 'outer', on = 'Platform')\n",
        "merge_df = merge_df.rename({'sum_x':'Action', 'sum_y':'Shooter'}, axis='columns')\n",
        "merge_df = merge_df.fillna(0)\n",
        "merge_df.plot.bar(x = 'Platform', alpha = 1, figsize = (10,6))\n",
        "plt.show()\n"
      ],
      "execution_count": 34,
      "outputs": [
        {
          "output_type": "display_data",
          "data": {
            "image/png": "[encoded data removed]",
            "text/plain": [
              "<Figure size 720x432 with 1 Axes>"
            ]
          },
          "metadata": {
            "tags": [],
            "needs_background": "light"
          }
        }
      ]
    },
    {
      "cell_type": "markdown",
      "metadata": {
        "id": "XUlm-60c-3Ug"
      },
      "source": [
        "상기 그래프와 같이 Action장르는 PS3, Shooter장르는 X360이 가장 많은 판매량을 기록하였습니다. \n"
      ]
    },
    {
      "cell_type": "markdown",
      "metadata": {
        "id": "hdaunrP0_Zxc"
      },
      "source": [
        "하지만 PS시리즈와 X시리즈 전체를 기준으로 보아야 조금 더 정확하게 선정할 수 있겠습니다."
      ]
    },
    {
      "cell_type": "code",
      "metadata": {
        "colab": {
          "base_uri": "https://localhost:8080/",
          "height": 0
        },
        "id": "K2w1B1j8_aKO",
        "outputId": "913ba16c-8448-4ce7-e93f-62c611940dc3"
      },
      "source": [
        "#Action 합계\n",
        "ac_ps = action_df1.iloc[3:5]['sum'].sum()\n",
        "ac_xbox = action_df1.iloc[10:12]['sum'].sum()\n",
        "\n",
        "#Shooter 합계\n",
        "sh_ps = shooter_df1.iloc[3:5]['sum'].sum()\n",
        "sh_xbox = shooter_df1.iloc[10:12]['sum'].sum()\n",
        "\n",
        "if (ac_ps+sh_ps) > (ac_xbox+sh_xbox):\n",
        "  print('PS Platform으로 출시한다.', '판매량차이 =',((ac_ps+sh_ps)-(ac_xbox+sh_xbox)))\n",
        "else:\n",
        "  print('Xbox Platform으로 출시한다.', '판매량차이 =',((ac_xbox+sh_xbox)-(ac_ps+sh_ps)))\n"
      ],
      "execution_count": 35,
      "outputs": [
        {
          "output_type": "stream",
          "text": [
            "PS Platform으로 출시한다. 판매량차이 = 195160000.0\n"
          ],
          "name": "stdout"
        }
      ]
    },
    {
      "cell_type": "markdown",
      "metadata": {
        "id": "sqgmclvWV15m"
      },
      "source": [
        "PS 시리즈와 Xbox시리즈 간의 검증"
      ]
    },
    {
      "cell_type": "code",
      "metadata": {
        "colab": {
          "base_uri": "https://localhost:8080/",
          "height": 0
        },
        "id": "rhc7guvnVt5U",
        "outputId": "e509ba91-b023-457b-9302-f34c6c4184c9"
      },
      "source": [
        "merge_df['sum'] = merge_df['Action']+ merge_df['Shooter']\n",
        "\n",
        "ps234 = ['PS2', 'PS3', 'PS4']\n",
        "ps = merge_df[merge_df['Platform'].isin(ps234)]['sum']\n",
        "\n",
        "xboxs = ['X360', 'XOne']\n",
        "xbox = merge_df[merge_df['Platform'].isin(xboxs)]['sum']\n",
        "\n",
        "ttest_P = stats.ttest_ind(ps,xbox).pvalue   #Two-Sample T-test\n",
        "if ttest_P >= 0.05:\n",
        "    print('PS시리즈와 Xbox시리즈간의 판매량이 유의미한 차이는 없습니다.', ttest_P)\n",
        "else:\n",
        "    print('PS시리즈와 Xbox시리즈간의 판매량이 유의미한 차이가 있습니다.', ttest_P)\n"
      ],
      "execution_count": 36,
      "outputs": [
        {
          "output_type": "stream",
          "text": [
            "PS시리즈와 Xbox시리즈간의 판매량이 유의미한 차이는 없습니다. 0.8936234959352292\n"
          ],
          "name": "stdout"
        }
      ]
    },
    {
      "cell_type": "markdown",
      "metadata": {
        "id": "HZJOcsGWV4is"
      },
      "source": [
        "PS 시리즈와 Xbox시리즈 간의 검증에서 두 Platform간의 유의미한 차이는 없으므로\n",
        "\n",
        " 두 장르의 판매량이 더 많은 PS시리즈로의 출시가 좋을 것 같습니다."
      ]
    },
    {
      "cell_type": "markdown",
      "metadata": {
        "id": "wgostvMiI5cf"
      },
      "source": [
        "# 5. 결론\n",
        "\n",
        "\n",
        "1.   PS시리즈에서 최신의 Platform으로 Action 장르와 Shooter장르를 결합한 형태의 게임을 출시\n",
        "2.   \n",
        "Action게임은 Roll-playing장르가 인기있고 Shooter장르가 인기가 없는  JP지역에서도 적당한 판매량을 기록하였고\n",
        "\n",
        " Action 장르와 Shooter장르를 결합한 형태이기에 향후 Shooter장르에 흥미를 유발할 수 있을 것으로 생각됩니다.\n",
        "\n"
      ]
    }
  ]
}