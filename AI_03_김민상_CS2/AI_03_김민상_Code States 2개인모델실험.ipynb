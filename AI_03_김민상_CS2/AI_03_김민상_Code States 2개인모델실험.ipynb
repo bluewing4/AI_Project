{
  "nbformat": 4,
  "nbformat_minor": 0,
  "metadata": {
    "colab": {
      "name": "s6_project2_rev3.ipynb",
      "provenance": [],
      "collapsed_sections": []
    },
    "kernelspec": {
      "name": "python3",
      "display_name": "Python 3"
    },
    "language_info": {
      "name": "python"
    },
    "accelerator": "GPU"
  },
  "cells": [
    {
      "cell_type": "code",
      "metadata": {
        "id": "ekryaldVws0r"
      },
      "source": [
        "import os\n",
        "import glob\n",
        "import tensorflow as tf\n",
        "import numpy as np\n",
        "from PIL import Image\n",
        "from keras import layers\n",
        "from keras.models import Sequential\n",
        "from keras.layers import Conv2D, Flatten, Dense, Activation, MaxPooling2D, Dropout, Input, BatchNormalization\n",
        "from tensorflow.keras.preprocessing.image import ImageDataGenerator\n",
        "from tensorflow.keras.callbacks import ReduceLROnPlateau, EarlyStopping\n",
        "from matplotlib import pyplot as plt"
      ],
      "execution_count": null,
      "outputs": []
    },
    {
      "cell_type": "code",
      "metadata": {
        "id": "euy66_7-ZtWm"
      },
      "source": [
        "# train 폴더 생성\n",
        "for i in range(0, 360):\n",
        "  out_dir ='/content/drive/MyDrive/week4 project-LOMIN/section6-project2/rotate_train/'\n",
        "  if out_dir not in os.listdir():\n",
        "    os.mkdir(out_dir + str(i))"
      ],
      "execution_count": null,
      "outputs": []
    },
    {
      "cell_type": "code",
      "metadata": {
        "id": "GhUl68mzaaSf"
      },
      "source": [
        "# test 폴더 생성\n",
        "for i in range(0, 360):\n",
        "  out_dir ='/content/drive/MyDrive/week4 project-LOMIN/section6-project2/rotate_test/'\n",
        "  if out_dir not in os.listdir():\n",
        "    os.mkdir(out_dir + str(i))"
      ],
      "execution_count": null,
      "outputs": []
    },
    {
      "cell_type": "code",
      "metadata": {
        "id": "v-E6G260Z3Iq"
      },
      "source": [
        "# train이미지 1도씩 회전하여 생성된 폴더별로 저장\n",
        "a= 0\n",
        "path = f\"/content/drive/MyDrive/week4 project-LOMIN/section6-project2/rotate_train/{a}\"\n",
        "files = glob.glob(path + '/*')\n",
        "\n",
        "save_path = f\"/content/drive/MyDrive/week4 project-LOMIN/section6-project2/rotate_train/{i}/\"\n",
        "\n",
        "for f in files:\n",
        "    for idx, file in enumerate(files):\n",
        "        fname, ext = os.path.splitext(file)\n",
        "        if ext in ['.jpg', '.png', '.gif']:\n",
        "          for i in range(1, 360):\n",
        "            if i%40==0:\n",
        "              print(\"{} images done\".format(i))\n",
        "            image = Image.open(file)\n",
        "            width, height = (150,150)\n",
        "            crop_image = image.rotate(i)\n",
        "            crop_image.save(save_path + str(idx) + '.jpg')\n",
        "            \t\t\t\t#저장파일 경로 + 순차적으로 저장 +확장자명"
      ],
      "execution_count": null,
      "outputs": []
    },
    {
      "cell_type": "code",
      "metadata": {
        "id": "JYk04N_5afzQ"
      },
      "source": [
        "# test이미지 1도씩 회전하여 생성된 폴더별로 저장\n",
        "a= 0\n",
        "path = f\"/content/drive/MyDrive/week4 project-LOMIN/section6-project2/rotate_test/{a}\"\n",
        "files = glob.glob(path + '/*')\n",
        "\n",
        "save_path = f\"/content/drive/MyDrive/week4 project-LOMIN/section6-project2/rotate_test/{i}/\"\n",
        "\n",
        "for f in files:\n",
        "    for idx, file in enumerate(files):\n",
        "        fname, ext = os.path.splitext(file)\n",
        "        if ext in ['.jpg', '.png', '.JPEG']:\n",
        "          for i in range(1, 360):\n",
        "            if i%40==0:\n",
        "              print(\"{} images done\".format(i))\n",
        "            image = Image.open(file)\n",
        "            width, height = (150,150)\n",
        "            crop_image = image.rotate(i)\n",
        "            crop_image.save(save_path + str(idx) + '.jpg')\n",
        "            \t\t\t\t#저장파일 경로 + 순차적으로 저장 +확장자명"
      ],
      "execution_count": null,
      "outputs": []
    },
    {
      "cell_type": "code",
      "metadata": {
        "id": "W6_9Wun7wtuH"
      },
      "source": [
        "#1. 데이터 파일 경로찾기\n",
        "train_dir = '/content/drive/MyDrive/week4 project-LOMIN/section6-project2/rotate_train/'\n",
        "test_dir ='/content/drive/MyDrive/week4 project-LOMIN/section6-project2/rotate_test/'"
      ],
      "execution_count": null,
      "outputs": []
    },
    {
      "cell_type": "code",
      "metadata": {
        "id": "H2nsQCPCwu57"
      },
      "source": [
        "#2. Set Data Generator\n",
        "#datagenerator 생성\n",
        "train_datagenerator = ImageDataGenerator(\n",
        "    rotation_range = 360,\n",
        "    rescale = 1./255.,\n",
        ")\n",
        "test_datagenerator = ImageDataGenerator(\n",
        "    rotation_range = 360,\n",
        "    rescale = 1./255.,\n",
        ")"
      ],
      "execution_count": null,
      "outputs": []
    },
    {
      "cell_type": "code",
      "metadata": {
        "id": "IEPah8Uyw1Pn",
        "colab": {
          "base_uri": "https://localhost:8080/"
        },
        "outputId": "bc4ecd43-9d49-4291-a75b-c258f4e9f5ab"
      },
      "source": [
        "#train_datagenerator을 train image에 적용\n",
        "train_result = train_datagenerator.flow_from_directory(\n",
        "    train_dir, \n",
        "    target_size = (150, 150),\n",
        "    batch_size = 128,\n",
        "    class_mode='categorical' \n",
        ")\n",
        "#test_datagenerator을 test image에 적용\n",
        "test_result = test_datagenerator.flow_from_directory(\n",
        "    test_dir, \n",
        "    target_size = (150, 150),\n",
        "    batch_size = 128,\n",
        "    class_mode='categorical' \n",
        ")\n",
        "\n"
      ],
      "execution_count": null,
      "outputs": [
        {
          "output_type": "stream",
          "name": "stdout",
          "text": [
            "Found 2609 images belonging to 1 classes.\n",
            "Found 100 images belonging to 1 classes.\n"
          ]
        }
      ]
    },
    {
      "cell_type": "code",
      "metadata": {
        "id": "k_F8lxopw0p5"
      },
      "source": [
        "#3. model 생성 후, \n",
        "\n",
        "model = Sequential([\n",
        "   Conv2D(64, (3, 3), activation='relu', input_shape=(150, 150, 3)),\n",
        "   MaxPooling2D(2, 2),\n",
        "   Conv2D(64, (3, 3), activation='relu'),\n",
        "   MaxPooling2D(2, 2),\n",
        "   Conv2D(128, (3, 3), activation='relu'),\n",
        "   MaxPooling2D(2, 2),\n",
        "   Conv2D(128, (3, 3), activation='relu'),\n",
        "   MaxPooling2D(2, 2),\n",
        "   Flatten(), # 2D -> 1D 변환 \n",
        "   Dropout(0.2), # 과적합 방지를 위한 Dropout  \n",
        "   Dense(512, activation='relu'),\n",
        "   Dense(1, activation='softmax'),\n",
        "]) \n",
        "\n",
        "rlr_call = ReduceLROnPlateau(monitor='val_loss', mode='min', factor=0.1, patience=4, verbose=1)\n",
        "es_call = EarlyStopping(monitor='val_loss', mode='min', patience=7, verbose=1)"
      ],
      "execution_count": null,
      "outputs": []
    },
    {
      "cell_type": "code",
      "metadata": {
        "colab": {
          "base_uri": "https://localhost:8080/"
        },
        "id": "6zXTC1yV0WMI",
        "outputId": "12aa0a94-7b85-4902-9093-7fe05b6139c0"
      },
      "source": [
        "model.compile(optimizer = 'adam', loss = \"categorical_crossentropy\", metrics=[\"accuracy\"])\n",
        "\n",
        "model.summary()"
      ],
      "execution_count": null,
      "outputs": [
        {
          "output_type": "stream",
          "name": "stdout",
          "text": [
            "Model: \"sequential\"\n",
            "_________________________________________________________________\n",
            " Layer (type)                Output Shape              Param #   \n",
            "=================================================================\n",
            " conv2d (Conv2D)             (None, 148, 148, 64)      1792      \n",
            "                                                                 \n",
            " max_pooling2d (MaxPooling2D  (None, 74, 74, 64)       0         \n",
            " )                                                               \n",
            "                                                                 \n",
            " conv2d_1 (Conv2D)           (None, 72, 72, 64)        36928     \n",
            "                                                                 \n",
            " max_pooling2d_1 (MaxPooling  (None, 36, 36, 64)       0         \n",
            " 2D)                                                             \n",
            "                                                                 \n",
            " conv2d_2 (Conv2D)           (None, 34, 34, 128)       73856     \n",
            "                                                                 \n",
            " max_pooling2d_2 (MaxPooling  (None, 17, 17, 128)      0         \n",
            " 2D)                                                             \n",
            "                                                                 \n",
            " conv2d_3 (Conv2D)           (None, 15, 15, 128)       147584    \n",
            "                                                                 \n",
            " max_pooling2d_3 (MaxPooling  (None, 7, 7, 128)        0         \n",
            " 2D)                                                             \n",
            "                                                                 \n",
            " flatten (Flatten)           (None, 6272)              0         \n",
            "                                                                 \n",
            " dropout (Dropout)           (None, 6272)              0         \n",
            "                                                                 \n",
            " dense (Dense)               (None, 512)               3211776   \n",
            "                                                                 \n",
            " dense_1 (Dense)             (None, 1)                 513       \n",
            "                                                                 \n",
            "=================================================================\n",
            "Total params: 3,472,449\n",
            "Trainable params: 3,472,449\n",
            "Non-trainable params: 0\n",
            "_________________________________________________________________\n"
          ]
        }
      ]
    },
    {
      "cell_type": "code",
      "metadata": {
        "id": "8_mpBD4LweMM",
        "colab": {
          "base_uri": "https://localhost:8080/"
        },
        "outputId": "183fa5d4-618a-4c1f-916e-50456f9402f0"
      },
      "source": [
        "history = model.fit(train_result, epochs=2,\n",
        "                    validation_data=test_result,\n",
        "                    callbacks=[rlr_call, es_call])\n"
      ],
      "execution_count": null,
      "outputs": [
        {
          "output_type": "stream",
          "name": "stdout",
          "text": [
            "Epoch 1/2\n",
            "21/21 [==============================] - 1192s 55s/step - loss: 0.0000e+00 - accuracy: 1.0000 - val_loss: 0.0000e+00 - val_accuracy: 1.0000 - lr: 0.0010\n",
            "Epoch 2/2\n",
            "21/21 [==============================] - 176s 8s/step - loss: 0.0000e+00 - accuracy: 1.0000 - val_loss: 0.0000e+00 - val_accuracy: 1.0000 - lr: 0.0010\n"
          ]
        }
      ]
    },
    {
      "cell_type": "code",
      "metadata": {
        "colab": {
          "base_uri": "https://localhost:8080/"
        },
        "id": "C66ZrxovBIEX",
        "outputId": "971fe30a-e0e5-47bc-94ec-7585e29bf94f"
      },
      "source": [
        "print(history.history.keys())"
      ],
      "execution_count": null,
      "outputs": [
        {
          "output_type": "stream",
          "name": "stdout",
          "text": [
            "dict_keys(['loss', 'accuracy', 'val_loss', 'val_accuracy', 'lr'])\n"
          ]
        }
      ]
    },
    {
      "cell_type": "code",
      "metadata": {
        "colab": {
          "base_uri": "https://localhost:8080/",
          "height": 297
        },
        "id": "wiMLxhmI17Ze",
        "outputId": "4896c4a6-16a0-443f-d550-c2ed9113f0ad"
      },
      "source": [
        "fig = plt.figure()\n",
        "plt.subplot(2,1,1)\n",
        "plt.plot(history.history['accuracy'])\n",
        "plt.title('model accuracy')\n",
        "plt.ylabel('accuracy')\n",
        "plt.xlabel('epoch')\n",
        "plt.legend(['train', 'test'], loc='lower right')\n",
        "\n",
        "plt.subplot(2,1,2)\n",
        "plt.plot(history.history['loss'])\n",
        "plt.title('model loss')\n",
        "plt.ylabel('loss')\n",
        "plt.xlabel('epoch')\n",
        "plt.legend(['train', 'test'], loc='upper right')\n",
        "\n",
        "plt.tight_layout()"
      ],
      "execution_count": null,
      "outputs": [
        {
          "output_type": "display_data",
          "data": {
            "image/png": "[encoded data removed]",
            "text/plain": [
              "<Figure size 432x288 with 2 Axes>"
            ]
          },
          "metadata": {
            "needs_background": "light"
          }
        }
      ]
    },
    {
      "cell_type": "code",
      "metadata": {
        "id": "h77ZOHLy3qkL"
      },
      "source": [
        "model.save_weights('rotate_weights.h5')"
      ],
      "execution_count": null,
      "outputs": []
    },
    {
      "cell_type": "code",
      "metadata": {
        "id": "IknEJLhOBmjk"
      },
      "source": [
        "model.save('rotate_model.h5')"
      ],
      "execution_count": null,
      "outputs": []
    }
  ]
}